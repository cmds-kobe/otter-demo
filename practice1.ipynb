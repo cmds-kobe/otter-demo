{
 "cells": [
  {
   "cell_type": "code",
   "execution_count": null,
   "metadata": {
    "deletable": false,
    "editable": false
   },
   "outputs": [],
   "source": [
    "# Initialize Otter\n",
    "import otter\n",
    "grader = otter.Notebook(colab=True)"
   ]
  },
  {
   "cell_type": "code",
   "execution_count": null,
   "metadata": {},
   "outputs": [],
   "source": [
    "# 自動採点のための準備\n",
    "! pip install otter-grader --quiet\n",
    "! git clone --quiet\n",
    "! cp "
   ]
  },
  {
   "cell_type": "markdown",
   "metadata": {
    "deletable": false,
    "editable": false
   },
   "source": [
    "## Q1-1【今日のランチはいくら？】\n",
    "生協食堂で、鯖塩焼き(176円)と巣ごもり玉子（88円）とミニサラダ（44円）とチキンフリッター（130円）とライスS（94円）を注文しました。合計いくら支払いましたか。\n",
    "\n",
    "変数名は、それぞれ以下としてください。サンプルコードの変数名は、変更しないでください。\n",
    "\n",
    "```raw\n",
    "mackerel        # 鯖塩焼き\n",
    "egg             # 巣ごもり玉子\n",
    "salad           # ミニサラダ\n",
    "chicken         # チキンフリッター\n",
    "rice            # ライスS\n",
    "```\n",
    "\n",
    "_Points:_ 3"
   ]
  },
  {
   "cell_type": "code",
   "execution_count": 1,
   "metadata": {
    "tags": []
   },
   "outputs": [
    {
     "ename": "NameError",
     "evalue": "name 'chiken' is not defined",
     "output_type": "error",
     "traceback": [
      "\u001b[0;31m---------------------------------------------------------------------------\u001b[0m",
      "\u001b[0;31mNameError\u001b[0m                                 Traceback (most recent call last)",
      "Cell \u001b[0;32mIn[1], line 9\u001b[0m\n\u001b[1;32m      6\u001b[0m rice \u001b[38;5;241m=\u001b[39m \u001b[38;5;241m94\u001b[39m\n\u001b[1;32m      8\u001b[0m \u001b[38;5;66;03m# 合計金額を計算して変数price_totalに代入\u001b[39;00m\n\u001b[0;32m----> 9\u001b[0m price_total \u001b[38;5;241m=\u001b[39m mackerel\u001b[38;5;241m+\u001b[39megg\u001b[38;5;241m+\u001b[39msalad\u001b[38;5;241m+\u001b[39m\u001b[43mchiken\u001b[49m\u001b[38;5;241m+\u001b[39mrice\n\u001b[1;32m     11\u001b[0m \u001b[38;5;66;03m# メッセージを変数price_messageに代入\u001b[39;00m\n\u001b[1;32m     12\u001b[0m price_message \u001b[38;5;241m=\u001b[39m \u001b[38;5;124mf\u001b[39m\u001b[38;5;124m\"\u001b[39m\u001b[38;5;124m支払合計は\u001b[39m\u001b[38;5;132;01m{\u001b[39;00mprice_total\u001b[38;5;132;01m}\u001b[39;00m\u001b[38;5;124m円です。\u001b[39m\u001b[38;5;124m\"\u001b[39m\n",
      "\u001b[0;31mNameError\u001b[0m: name 'chiken' is not defined"
     ]
    }
   ],
   "source": [
    "# 各アイテムの価格を変数に代入\n",
    "mackerel = 176\n",
    "egg = 88\n",
    "salad = 44\n",
    "chicken = 130\n",
    "rice = 94\n",
    "\n",
    "# 合計金額を計算して変数price_totalに代入\n",
    "price_total = mackerel+egg+salad+chicken+rice\n",
    "\n",
    "# メッセージを変数price_messageに代入\n",
    "price_message = f\"支払合計は{price_total}円です。\"\n",
    "\n",
    "# 結果を表示\n",
    "print(price_message)\n"
   ]
  },
  {
   "cell_type": "code",
   "execution_count": null,
   "metadata": {
    "tags": []
   },
   "outputs": [],
   "source": []
  },
  {
   "cell_type": "code",
   "execution_count": null,
   "metadata": {
    "deletable": false,
    "editable": false
   },
   "outputs": [],
   "source": [
    "grader.check(\"q1-1\")"
   ]
  },
  {
   "cell_type": "raw",
   "metadata": {},
   "source": []
  },
  {
   "cell_type": "raw",
   "metadata": {},
   "source": []
  },
  {
   "cell_type": "markdown",
   "metadata": {
    "deletable": false,
    "editable": false
   },
   "source": [
    "## Q1-2【必要量を見積もる】\n",
    "\n",
    "チキンフリッターには1食あたり30gの鶏肉が2つ入っています。1日の需要見込み500食分を用意するには、何kgの鶏肉が必要ですか。\n",
    "\n",
    "変数名は、それぞれ以下としてください。サンプルコードの変数名は、変更しないでください。\n",
    "\n",
    "```raw\n",
    "mackerel        # 鯖塩焼き\n",
    "egg             # 巣ごもり玉子\n",
    "salad           # ミニサラダ\n",
    "chicken         # チキンフリッター\n",
    "rice            # ライスS\n",
    "chicken_material\n",
    "# 1食あたりに必要な鶏肉のグラム数\n",
    "demand_per_day = 500\n",
    "# 1日の需要見込み\n",
    "chicken_message\n",
    "# メッセージを変数に代入\n",
    "```\n",
    "\n",
    "\n",
    "_Points:_ 3"
   ]
  },
  {
   "cell_type": "code",
   "execution_count": null,
   "metadata": {
    "tags": []
   },
   "outputs": [],
   "source": [
    "# 1食あたりに必要な鶏肉のグラム数を変数に代入\n",
    "chicken_material = ...\n",
    "\n",
    "# 1日の需要見込みを変数に代入\n",
    "demand_per_day = ...\n",
    "\n",
    "# 1日に必要な鶏肉のグラム数を計算してkgに変換し、変数に代入\n",
    "chicken_per_day = ...\n",
    "\n",
    "# メッセージを変数に代入\n",
    "chicken_message = f\"チキンフリッター{demand_per_day}食分用意するには{chicken_per_day}kgの鶏肉が必要です\" \n",
    "\n",
    "# 結果を表示\n",
    "print(chicken_message)"
   ]
  },
  {
   "cell_type": "code",
   "execution_count": null,
   "metadata": {
    "deletable": false,
    "editable": false
   },
   "outputs": [],
   "source": [
    "grader.check(\"q1-2\")"
   ]
  },
  {
   "cell_type": "markdown",
   "metadata": {
    "deletable": false,
    "editable": false
   },
   "source": [
    "## Q1-3【円の面積を求める】\n",
    "ユーザーが正の実数 `r` を入力すると、`r` を半径とする円の面積を出力する関数 `circle_area(r)` を作成しなさい。なお、円周率は3.14として計算し、結果は小数点以下3桁に四捨五入してください。\n",
    "\n",
    "_Points:_ 3"
   ]
  },
  {
   "cell_type": "code",
   "execution_count": null,
   "metadata": {
    "tags": []
   },
   "outputs": [],
   "source": [
    "def circle_area(r):\n",
    "    # 円周率を定義\n",
    "    pi = ...\n",
    "    \n",
    "    # 円の面積を計算\n",
    "    area = ...\n",
    "    \n",
    "    # 小数点以下3桁に四捨五入\n",
    "    rounded_area = ...\n",
    "    \n",
    "    # 結果を返す\n",
    "    return rounded_area\n",
    "\n",
    "# 例として半径5の円の面積を計算して表示\n",
    "r = 5.0\n",
    "print(circle_area(r))  # 出力: 78.5"
   ]
  },
  {
   "cell_type": "code",
   "execution_count": null,
   "metadata": {
    "deletable": false,
    "editable": false
   },
   "outputs": [],
   "source": [
    "grader.check(\"q1-3\")"
   ]
  },
  {
   "cell_type": "raw",
   "metadata": {},
   "source": []
  },
  {
   "cell_type": "markdown",
   "metadata": {
    "deletable": false,
    "editable": false
   },
   "source": [
    "## Q1-4【粗利の計算】\n",
    "あなたはQ1-2のチキンフリッターをまねして販売しようと、スーパーで100gあたり68円の鶏肉を5kg買いました。このとき、チキンフリッターは何食分できますか。小数点以下切り捨てで答えてください。また、製造したチキンフリッターを1食130円で売り切った場合、粗利益（売上 - 原価）はいくらになりますか。\n",
    "\n",
    "変数名は、それぞれ以下としてください。サンプルコードの変数名は、変更しないでください。\n",
    "\n",
    "```raw\n",
    "# 1食あたりに必要な鶏肉のグラム数\n",
    "chicken_material\n",
    "\n",
    "# 買った鶏肉の量を変数\n",
    "chicken_purchased\n",
    "\n",
    "# 支払った代金\n",
    "cost_of_chicken\n",
    "\n",
    "# 製造可能なチキンフリッターの数\n",
    "number_of_dish\n",
    "\n",
    "# 売り上げを計算\n",
    "total_sales\n",
    "\n",
    "# 粗利益を計算\n",
    "revenue = total_sales - cost_of_chicken\n",
    "```\n",
    "\n",
    "\n",
    "\n",
    "_Points:_ 3"
   ]
  },
  {
   "cell_type": "code",
   "execution_count": null,
   "metadata": {
    "tags": []
   },
   "outputs": [],
   "source": [
    "# 1食あたりに必要な鶏肉のグラム数を変数に代入\n",
    "chicken_material = ...\n",
    "\n",
    "# 買った鶏肉の量を変数に代入（グラム）\n",
    "chicken_purchased = ...\n",
    "\n",
    "# 支払った代金を計算\n",
    "cost_of_chicken = ...\n",
    "\n",
    "# 製造可能なチキンフリッターの数を計算（小数点以下切り捨て）\n",
    "number_of_dish = ...\n",
    "\n",
    "# 売り上げを計算\n",
    "total_sales = ...\n",
    "\n",
    "# 粗利益を計算\n",
    "revenue = ...\n",
    "\n",
    "# メッセージを変数に代入\n",
    "revenue_message = f\"チキンフリッターは{number_of_dish:.0f}食分できます\\n粗利益は{revenue:.0f}円です\"\n",
    "\n",
    "# 結果を表示\n",
    "print(revenue_message)"
   ]
  },
  {
   "cell_type": "code",
   "execution_count": null,
   "metadata": {
    "deletable": false,
    "editable": false
   },
   "outputs": [],
   "source": [
    "grader.check(\"q1-4\")"
   ]
  },
  {
   "cell_type": "markdown",
   "metadata": {
    "deletable": false,
    "editable": false
   },
   "source": [
    "## Q1-5【銀行の定期預金】\n",
    "\n",
    "あなたは宝くじで1000万円当たったので、手堅く銀行の定期預金に10年預けることにしました。10年後いくらになっているでしょうか。なお、年利は0.2%とし複利で計算しなさい。税金は考えなくて良いです。べき乗を使って計算してください。\n",
    "\n",
    "変数名は、それぞれ以下としてください。サンプルコードの変数名は、変更しないでください。\n",
    "\n",
    "```raw\n",
    "# 元本（円）\n",
    "principal\n",
    "\n",
    "# 年利（0.2%）\n",
    "rate\n",
    "\n",
    "# 預ける期間（年）\n",
    "years\n",
    "\n",
    "# 10年後の金額を計算\n",
    "after_10_year\n",
    "```\n",
    "\n",
    "_Points:_ 3"
   ]
  },
  {
   "cell_type": "code",
   "execution_count": null,
   "metadata": {
    "tags": []
   },
   "outputs": [],
   "source": [
    "# 元本（円）\n",
    "principal = ...\n",
    "\n",
    "# 年利（0.2%）\n",
    "rate = ...\n",
    "\n",
    "# 預ける期間（年）\n",
    "years = ...\n",
    "\n",
    "# 10年後の金額を計算\n",
    "after_10_year = ...\n",
    "\n",
    "# メッセージを変数に代入\n",
    "tenyears_message = f\"元本{principal:,}円を年利{rate*100}%で{years}年預けると，{after_10_year:,.0f}円になります\"\n",
    "\n",
    "# 結果を表示\n",
    "print(tenyears_message)"
   ]
  },
  {
   "cell_type": "code",
   "execution_count": null,
   "metadata": {
    "deletable": false,
    "editable": false
   },
   "outputs": [],
   "source": [
    "grader.check(\"q1-5\")"
   ]
  },
  {
   "cell_type": "code",
   "execution_count": null,
   "metadata": {},
   "outputs": [],
   "source": []
  },
  {
   "cell_type": "markdown",
   "metadata": {
    "deletable": false,
    "editable": false
   },
   "source": [
    "## Q1-6【5科目テストの成績】\n",
    "\n",
    "ユーザーが、国語、数学、理科、社会、英語の5科目のテストの点数をそれぞれ入力すると、5科目の合計点 `score_total` と平均点 `score_average` を出力する関数 `subject_total(language, mathematics, science, socialstudies, english)` を作成してください。なお、平均点は小数点1桁で四捨五入してください。\n",
    "\n",
    "_Points:_ 1"
   ]
  },
  {
   "cell_type": "code",
   "execution_count": null,
   "metadata": {
    "tags": []
   },
   "outputs": [],
   "source": [
    "def subject_total(language, mathematics, science, socialstudies,english):\n",
    "    # 合計点を計算\n",
    "    score_total = ...\n",
    "    \n",
    "    # 平均点を計算\n",
    "    score_average = ...\n",
    "  \n",
    "    # 結果を表示\n",
    "\n",
    "    return(score_total,score_average)\n",
    "\n",
    "language=85\n",
    "mathematics=90\n",
    "science=78\n",
    "socialstudies=92\n",
    "english=88\n",
    "\n",
    "# 例として5科目の点数を入力して関数を呼び出す\n",
    "subject_total(language, mathematics, science, socialstudies,english)\n",
    "\n",
    "score_total,score_average=subject_total(language, mathematics, science, socialstudies,english)\n",
    "\n",
    "print(f\"5科目の合計点: {score_total}点\")\n",
    "print(f\"5科目の平均点: {score_average}点\")\n"
   ]
  },
  {
   "cell_type": "code",
   "execution_count": null,
   "metadata": {
    "deletable": false,
    "editable": false
   },
   "outputs": [],
   "source": [
    "grader.check(\"q1-6\")"
   ]
  },
  {
   "cell_type": "raw",
   "metadata": {},
   "source": []
  },
  {
   "cell_type": "markdown",
   "metadata": {
    "deletable": false,
    "editable": false
   },
   "source": [
    "## Q1-7【簡易版注文票発行システム】\n",
    "\n",
    "注文する商品名と税抜き単価、注文個数を入力すると税抜価格、消費税（10%）、合計価格を下記の注文票の様式で画面に出力する関数を作成してください。ここで、消費税の小数点は切り捨ててください。\n",
    "\n",
    "```raw\n",
    "============（注文票）============\n",
    "注文商品：INTEL Core i5-12400F\n",
    "＠26,980円 × 5個\n",
    "税抜価格：   134,900円\n",
    "消費税  ：    13,490円\n",
    "合計金額：   148,390円\n",
    "==================================\n",
    "```\n",
    "\n",
    "\n",
    "_Points:_ 3"
   ]
  },
  {
   "cell_type": "code",
   "execution_count": null,
   "metadata": {
    "tags": []
   },
   "outputs": [],
   "source": [
    "import math\n",
    "\n",
    "def calculate_order(product_name, unit_price, quantity):\n",
    "    # 税抜価格の計算\n",
    "    tax_excluded_price = ...\n",
    "    \n",
    "    # 消費税（10%）の計算\n",
    "    tax = ...\n",
    "    \n",
    "    # 合計価格の計算\n",
    "    total_price = ...\n",
    "    \n",
    "    return {\n",
    "        \"product_name\": product_name,\n",
    "        \"unit_price\": unit_price,\n",
    "        \"quantity\": quantity,\n",
    "        \"tax_excluded_price\": tax_excluded_price,\n",
    "        \"tax\": tax,\n",
    "        \"total_price\": total_price\n",
    "    }\n",
    "\n",
    "def print_order_form(order):\n",
    "    # 注文票の出力\n",
    "    ...\n",
    "    ...\n",
    "    ...\n",
    "    ...\n",
    "    ...\n",
    "\n",
    "# 例として商品名、税抜き単価、注文個数を入力して関数を呼び出す\n",
    "product_name = \"INTEL Core i5-12400F\"\n",
    "unit_price = 26980  # 税抜き単価\n",
    "quantity = 5  # 注文個数\n",
    "\n",
    "order = calculate_order(product_name, unit_price, quantity)\n",
    "\n",
    "print(\"============（注文票）============\")\n",
    "print_order_form(order)\n",
    "print(\"==================================\")"
   ]
  },
  {
   "cell_type": "code",
   "execution_count": null,
   "metadata": {
    "deletable": false,
    "editable": false
   },
   "outputs": [],
   "source": [
    "grader.check(\"q1-7\")"
   ]
  },
  {
   "cell_type": "raw",
   "metadata": {},
   "source": []
  },
  {
   "cell_type": "raw",
   "metadata": {},
   "source": []
  },
  {
   "cell_type": "code",
   "execution_count": null,
   "metadata": {},
   "outputs": [],
   "source": []
  },
  {
   "cell_type": "code",
   "execution_count": null,
   "metadata": {},
   "outputs": [],
   "source": []
  },
  {
   "cell_type": "raw",
   "metadata": {},
   "source": []
  },
  {
   "cell_type": "raw",
   "metadata": {},
   "source": []
  },
  {
   "cell_type": "raw",
   "metadata": {},
   "source": []
  }
 ],
 "metadata": {
  "kernelspec": {
   "display_name": "Python 3",
   "language": "python",
   "name": "python3"
  },
  "language_info": {
   "codemirror_mode": {
    "name": "ipython",
    "version": 3
   },
   "file_extension": ".py",
   "mimetype": "text/x-python",
   "name": "python",
   "nbconvert_exporter": "python",
   "pygments_lexer": "ipython3",
   "version": "3.10.13"
  },
  "varInspector": {
   "cols": {
    "lenName": 16,
    "lenType": 16,
    "lenVar": 40
   },
   "kernels_config": {
    "python": {
     "delete_cmd_postfix": "",
     "delete_cmd_prefix": "del ",
     "library": "var_list.py",
     "varRefreshCmd": "print(var_dic_list())"
    },
    "r": {
     "delete_cmd_postfix": ") ",
     "delete_cmd_prefix": "rm(",
     "library": "var_list.r",
     "varRefreshCmd": "cat(var_dic_list()) "
    }
   },
   "types_to_exclude": [
    "module",
    "function",
    "builtin_function_or_method",
    "instance",
    "_Feature"
   ],
   "window_display": false
  }
 },
 "nbformat": 4,
 "nbformat_minor": 4
}
